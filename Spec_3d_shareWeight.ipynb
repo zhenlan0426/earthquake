{
 "cells": [
  {
   "cell_type": "code",
   "execution_count": 1,
   "metadata": {},
   "outputs": [],
   "source": [
    "import pandas as pd\n",
    "import numpy as np\n",
    "from functions import *\n",
    "from pytorch_util import *\n",
    "from pytorch_models import ConvBatchLeaky,GRU_NCL,LambdaLayer,biasLayer,Conv2dGLU\n",
    "from torch.nn import Linear,Sequential,LeakyReLU,Dropout,L1Loss\n",
    "from torch.utils.data import DataLoader\n",
    "from torch.optim import Adam"
   ]
  },
  {
   "cell_type": "code",
   "execution_count": 2,
   "metadata": {},
   "outputs": [],
   "source": [
    "train = pd.read_csv(\"../Data/train.csv\", \n",
    "                    dtype={'acoustic_data': np.float32, 'time_to_failure': np.float32})\n",
    "train = train.values"
   ]
  },
  {
   "cell_type": "code",
   "execution_count": 3,
   "metadata": {},
   "outputs": [],
   "source": [
    "## change ##\n",
    "batch_size = 16\n",
    "clip = .25\n",
    "block = ResidualBlock3d"
   ]
  },
  {
   "cell_type": "code",
   "execution_count": null,
   "metadata": {},
   "outputs": [],
   "source": []
  },
  {
   "cell_type": "markdown",
   "metadata": {},
   "source": [
    "Rnn does not work for share weight"
   ]
  },
  {
   "cell_type": "code",
   "execution_count": null,
   "metadata": {},
   "outputs": [],
   "source": []
  },
  {
   "cell_type": "markdown",
   "metadata": {},
   "source": [
    "Prepare data"
   ]
  },
  {
   "cell_type": "code",
   "execution_count": 4,
   "metadata": {},
   "outputs": [],
   "source": [
    "train_gen = SequenceGenSpec(train,Is2D=False)\n",
    "train_gen = DataLoader(train_gen,batch_size,False,num_workers=2)\n",
    "\n",
    "val_gen = SequenceGenSpec(train,False,Is2D=False)\n",
    "val_gen = DataLoader(val_gen,batch_size,False,num_workers=2)"
   ]
  },
  {
   "cell_type": "code",
   "execution_count": null,
   "metadata": {},
   "outputs": [],
   "source": []
  },
  {
   "cell_type": "code",
   "execution_count": null,
   "metadata": {},
   "outputs": [],
   "source": []
  },
  {
   "cell_type": "markdown",
   "metadata": {},
   "source": [
    "Build model"
   ]
  },
  {
   "cell_type": "code",
   "execution_count": 80,
   "metadata": {},
   "outputs": [],
   "source": [
    "# model = Sequential(   ConvBatchLeaky(1,4,(3,3),stride=(1,1)),\n",
    "#                       Dropout(0.5),\n",
    "#                       block(4),\n",
    "#                       Dropout(0.5),\n",
    "#                       block(8),\n",
    "#                       Dropout(0.5),\n",
    "#                       block(16),\n",
    "#                       Dropout(0.5),\n",
    "#                       block(32),\n",
    "#                       Dropout(0.5),              \n",
    "#                       LambdaLayer(lambda x:x.view(-1,64*7,47).transpose(1,2)),                  \n",
    "#                       Linear(64*7,1,bias=False),\n",
    "#                       biasLayer((1,47,1)),\n",
    "#                       LeakyReLU(0.2,True),\n",
    "#                       LambdaLayer(lambda x:x.squeeze(2).median(1)[0])             \n",
    "#                      ).to('cuda:0')"
   ]
  },
  {
   "cell_type": "code",
   "execution_count": 5,
   "metadata": {},
   "outputs": [],
   "source": [
    "model = Sequential(   ConvBatchLeaky(1,4,(3,3),stride=(1,1)),\n",
    "                      Dropout(0.5),\n",
    "                      block(4),\n",
    "                      Dropout(0.5),\n",
    "                      block(8),\n",
    "                      Dropout(0.5),\n",
    "                      block(16),\n",
    "                      Dropout(0.5),\n",
    "                      block(32),\n",
    "                      Dropout(0.5),              \n",
    "                      LambdaLayer(lambda x:x.view(-1,64*7,47).transpose(1,2)),                  \n",
    "                      Linear(64*7,1,bias=False),\n",
    "                      LeakyReLU(0.2,True),\n",
    "                      #LambdaLayer(lambda x:x.squeeze(2).median(1,keepdim=True)[0]),\n",
    "                      LambdaLayer(lambda x:x.squeeze(2).mean(1,keepdim=True)),                   \n",
    "                      #biasLayer((1,)),\n",
    "                      Linear(1,1),\n",
    "                      LambdaLayer(lambda x:x.squeeze(1))             \n",
    "                     ).to('cuda:0')"
   ]
  },
  {
   "cell_type": "code",
   "execution_count": 33,
   "metadata": {},
   "outputs": [],
   "source": [
    "# ResidualBlockGLU3d >> 2.54\n",
    "# DenseBlock3d >> 2.45\n",
    "# ResidualBlock3d >> 2.40"
   ]
  },
  {
   "cell_type": "code",
   "execution_count": 81,
   "metadata": {},
   "outputs": [],
   "source": [
    "opt = Adam(trainable_parameter(model),lr=4e-4)"
   ]
  },
  {
   "cell_type": "code",
   "execution_count": 82,
   "metadata": {},
   "outputs": [],
   "source": [
    "loss_func_nor = loss_func_generator(L1Loss())"
   ]
  },
  {
   "cell_type": "code",
   "execution_count": null,
   "metadata": {},
   "outputs": [],
   "source": []
  },
  {
   "cell_type": "code",
   "execution_count": null,
   "metadata": {},
   "outputs": [],
   "source": []
  },
  {
   "cell_type": "code",
   "execution_count": null,
   "metadata": {},
   "outputs": [],
   "source": []
  },
  {
   "cell_type": "markdown",
   "metadata": {},
   "source": [
    "Training"
   ]
  },
  {
   "cell_type": "code",
   "execution_count": 8,
   "metadata": {},
   "outputs": [
    {
     "name": "stdout",
     "output_type": "stream",
     "text": [
      "epoch:0, train_loss:3.478631360599628, val_loss:3.0247867107391357\n",
      "epoch:1, train_loss:2.2756478207615705, val_loss:2.579779624938965\n",
      "epoch:2, train_loss:2.152181450564128, val_loss:2.595513343811035\n",
      "epoch:3, train_loss:2.143061222365269, val_loss:2.532578945159912\n",
      "epoch:4, train_loss:2.1364198573506794, val_loss:2.4511685371398926\n",
      "epoch:5, train_loss:2.1179060838543453, val_loss:2.5203874111175537\n",
      "epoch:6, train_loss:2.1200548811600757, val_loss:2.4278340339660645\n",
      "epoch:7, train_loss:2.114838432807189, val_loss:2.4521493911743164\n",
      "epoch:8, train_loss:2.115139267192437, val_loss:2.4467461109161377\n",
      "epoch:9, train_loss:2.1004444137215614, val_loss:2.4257972240448\n",
      "Training completed in 69.33237504959106s\n"
     ]
    }
   ],
   "source": [
    "model = fit(10, model, loss_func_nor, opt, train_gen, val_gen,clip=clip)"
   ]
  },
  {
   "cell_type": "code",
   "execution_count": null,
   "metadata": {},
   "outputs": [],
   "source": []
  },
  {
   "cell_type": "code",
   "execution_count": null,
   "metadata": {},
   "outputs": [],
   "source": []
  },
  {
   "cell_type": "markdown",
   "metadata": {},
   "source": [
    "Submission"
   ]
  },
  {
   "cell_type": "code",
   "execution_count": 10,
   "metadata": {},
   "outputs": [],
   "source": [
    "submission = pd.read_csv('../Data/sample_submission.csv')"
   ]
  },
  {
   "cell_type": "code",
   "execution_count": 11,
   "metadata": {},
   "outputs": [],
   "source": [
    "test_gen = SequenceGenSpecTest(submission.seg_id.tolist(),Is2D=False)\n",
    "test_gen = DataLoader(test_gen,batch_size,False,num_workers=2)"
   ]
  },
  {
   "cell_type": "code",
   "execution_count": 12,
   "metadata": {},
   "outputs": [],
   "source": [
    "submission.iloc[:,1] = predict(model,test_gen)"
   ]
  },
  {
   "cell_type": "code",
   "execution_count": 13,
   "metadata": {},
   "outputs": [],
   "source": [
    "submission.to_csv('../Submission/sub_spec_3d_shareWeight.csv',index=False)"
   ]
  },
  {
   "cell_type": "code",
   "execution_count": null,
   "metadata": {},
   "outputs": [],
   "source": []
  }
 ],
 "metadata": {
  "kernelspec": {
   "display_name": "Python 3",
   "language": "python",
   "name": "python3"
  },
  "language_info": {
   "codemirror_mode": {
    "name": "ipython",
    "version": 3
   },
   "file_extension": ".py",
   "mimetype": "text/x-python",
   "name": "python",
   "nbconvert_exporter": "python",
   "pygments_lexer": "ipython3",
   "version": "3.7.2"
  }
 },
 "nbformat": 4,
 "nbformat_minor": 2
}
