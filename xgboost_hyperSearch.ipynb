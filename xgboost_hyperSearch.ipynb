{
 "cells": [
  {
   "cell_type": "code",
   "execution_count": 1,
   "metadata": {},
   "outputs": [],
   "source": [
    "import pandas as pd\n",
    "import numpy as np\n",
    "import xgboost as xgb"
   ]
  },
  {
   "cell_type": "code",
   "execution_count": 55,
   "metadata": {},
   "outputs": [],
   "source": [
    "name = 'gbm'"
   ]
  },
  {
   "cell_type": "code",
   "execution_count": 3,
   "metadata": {},
   "outputs": [],
   "source": [
    "submission = pd.read_csv('../Data/sample_submission.csv')"
   ]
  },
  {
   "cell_type": "code",
   "execution_count": 4,
   "metadata": {},
   "outputs": [],
   "source": [
    "train_X = pd.read_csv('../Data/train_X_xgb.csv',index_col=0)\n",
    "train_y = pd.read_csv('../Data/train_y_xgb.csv',index_col=0)\n",
    "val_X = pd.read_csv('../Data/val_X_xgb.csv',index_col=0)\n",
    "val_y = pd.read_csv('../Data/val_y_xgb.csv',index_col=0)\n",
    "test_X = pd.read_csv('../Data/test_X_xgb.csv',index_col=0)"
   ]
  },
  {
   "cell_type": "code",
   "execution_count": 5,
   "metadata": {},
   "outputs": [],
   "source": [
    "dtrain = xgb.DMatrix(train_X.values, label=train_y.values)\n",
    "dval = xgb.DMatrix(val_X.values, label=val_y.values)\n",
    "dtest = xgb.DMatrix(test_X.values)"
   ]
  },
  {
   "cell_type": "code",
   "execution_count": 6,
   "metadata": {},
   "outputs": [],
   "source": [
    "# set margin\n",
    "mean = train_y.values.mean()\n",
    "dtrain.set_base_margin(np.ones(train_X.shape[0])*mean)\n",
    "dval.set_base_margin(np.ones(val_X.shape[0])*mean)\n",
    "dtest.set_base_margin(np.ones(test_X.shape[0])*mean)"
   ]
  },
  {
   "cell_type": "code",
   "execution_count": null,
   "metadata": {},
   "outputs": [],
   "source": []
  },
  {
   "cell_type": "code",
   "execution_count": null,
   "metadata": {},
   "outputs": [],
   "source": []
  },
  {
   "cell_type": "markdown",
   "metadata": {},
   "source": [
    "Build model"
   ]
  },
  {
   "cell_type": "code",
   "execution_count": 10,
   "metadata": {},
   "outputs": [],
   "source": [
    "watchlist = [(dtrain, 'train'), (dval, 'val')]"
   ]
  },
  {
   "cell_type": "code",
   "execution_count": 63,
   "metadata": {},
   "outputs": [],
   "source": [
    "def MAE_obj(preds, dtrain):\n",
    "    labels = dtrain.get_label()\n",
    "    grad = np.where(preds>labels,1.0,-1.0)\n",
    "    hess = np.ones_like(grad)\n",
    "    return grad, hess\n",
    "\n",
    "def huber_approx_obj(preds, dtrain):\n",
    "    d = preds - dtrain.get_label() #remove .get_labels() for sklearn\n",
    "    h = 1  #h is delta in the graphic\n",
    "    scale = 1 + (d / h) ** 2\n",
    "    scale_sqrt = np.sqrt(scale)\n",
    "    grad = d / scale_sqrt\n",
    "    hess = 1 / scale / scale_sqrt\n",
    "    return grad, hess\n",
    "\n",
    "def fair_obj(preds, dtrain):\n",
    "    \"\"\"y = c * abs(x) - c**2 * np.log(abs(x)/c + 1)\"\"\"\n",
    "    x = preds - dtrain.get_label()\n",
    "    c = 1\n",
    "    den = abs(x) + c\n",
    "    grad = c*x / den\n",
    "    hess = c*c / den ** 2\n",
    "    return grad, hess\n",
    "\n",
    "def log_cosh_obj(preds, dtrain):\n",
    "    x = preds - dtrain.get_label()\n",
    "    grad = np.tanh(x)\n",
    "    hess = 1 / np.cosh(x)**2\n",
    "    return grad, hess"
   ]
  },
  {
   "cell_type": "code",
   "execution_count": null,
   "metadata": {},
   "outputs": [],
   "source": []
  },
  {
   "cell_type": "code",
   "execution_count": 64,
   "metadata": {},
   "outputs": [],
   "source": [
    "iterations = 40"
   ]
  },
  {
   "cell_type": "code",
   "execution_count": 66,
   "metadata": {},
   "outputs": [
    {
     "name": "stdout",
     "output_type": "stream",
     "text": [
      "{'gamma ': 5.5560202627264825, 'max_depth': 21, 'nthread': 4, 'colsample_bylevel': 0.6747826472482675, 'subsample': 0.5193875584748104, 'lambda': 2.1257484892274148, 'alpha': 3.9321497386428255, 'grow_policy': 'lossguide', 'max_bin': 256, 'eta': 0.01, 'eval_metric': 'mae', 'tree_method': 'hist'} 2.365874\n",
      "{'gamma ': 6.155418148873245, 'max_depth': 4, 'nthread': 4, 'colsample_bylevel': 0.547149204233072, 'subsample': 0.7597495081298145, 'lambda': 1.7366083739664502, 'alpha': 1.6097087078439256, 'grow_policy': 'depthwise', 'max_bin': 512, 'eta': 0.01, 'eval_metric': 'mae', 'tree_method': 'hist'} 2.424783\n",
      "{'gamma ': 9.25832754428316, 'max_depth': 17, 'nthread': 4, 'colsample_bylevel': 0.3931182428028154, 'subsample': 0.5534521992475786, 'lambda': 3.883152451293924, 'alpha': 2.6223158628666923, 'grow_policy': 'lossguide', 'max_bin': 64, 'eta': 0.01, 'eval_metric': 'mae', 'tree_method': 'hist'} 2.348078\n",
      "{'gamma ': 6.655617066678704, 'max_depth': 22, 'nthread': 4, 'colsample_bylevel': 0.5703427242645187, 'subsample': 0.4199992222867869, 'lambda': 0.30271948540558746, 'alpha': 1.3885995100103639, 'grow_policy': 'depthwise', 'max_bin': 512, 'eta': 0.01, 'eval_metric': 'mae', 'tree_method': 'hist'} 2.373614\n",
      "{'gamma ': 8.085056428147467, 'max_depth': 4, 'nthread': 4, 'colsample_bylevel': 0.7217357714095243, 'subsample': 0.4177439549212406, 'lambda': 0.5512876384018157, 'alpha': 1.2107851582964897, 'grow_policy': 'depthwise', 'max_bin': 128, 'eta': 0.01, 'eval_metric': 'mae', 'tree_method': 'hist'} 2.271799\n",
      "{'gamma ': 5.225243535471861, 'max_depth': 23, 'nthread': 4, 'colsample_bylevel': 0.2869229834935052, 'subsample': 0.6107072597056192, 'lambda': 3.194034597096951, 'alpha': 3.0094864728752704, 'grow_policy': 'depthwise', 'max_bin': 128, 'eta': 0.01, 'eval_metric': 'mae', 'tree_method': 'hist'} 2.376775\n",
      "{'gamma ': 7.024026657809497, 'max_depth': 3, 'nthread': 4, 'colsample_bylevel': 0.2349197064210796, 'subsample': 0.5732643072207888, 'lambda': 1.9675883168493655, 'alpha': 0.6551618743137695, 'grow_policy': 'lossguide', 'max_bin': 1024, 'eta': 0.01, 'eval_metric': 'mae', 'tree_method': 'hist'} 2.287296\n",
      "{'gamma ': 9.93132861745359, 'max_depth': 2, 'nthread': 4, 'colsample_bylevel': 0.7860261579242853, 'subsample': 0.6280099090243748, 'lambda': 1.1941101982861677, 'alpha': 0.7337315151379582, 'grow_policy': 'depthwise', 'max_bin': 256, 'eta': 0.01, 'eval_metric': 'mae', 'tree_method': 'hist'} 2.369539\n",
      "{'gamma ': 2.014578901813114, 'max_depth': 17, 'nthread': 4, 'colsample_bylevel': 0.506280433956165, 'subsample': 0.4088597325750675, 'lambda': 1.7739071819683008, 'alpha': 3.111029368711402, 'grow_policy': 'lossguide', 'max_bin': 512, 'eta': 0.01, 'eval_metric': 'mae', 'tree_method': 'hist'} 2.342057\n",
      "{'gamma ': 2.6943884650767034, 'max_depth': 13, 'nthread': 4, 'colsample_bylevel': 0.333002587528637, 'subsample': 0.751572741857057, 'lambda': 0.4678665955583976, 'alpha': 2.232831725251841, 'grow_policy': 'lossguide', 'max_bin': 512, 'eta': 0.01, 'eval_metric': 'mae', 'tree_method': 'hist'} 2.446464\n",
      "{'gamma ': 2.5006219568029495, 'max_depth': 17, 'nthread': 4, 'colsample_bylevel': 0.6467335343844884, 'subsample': 0.6255805327782705, 'lambda': 3.7844353209827264, 'alpha': 2.6359344959936295, 'grow_policy': 'lossguide', 'max_bin': 1024, 'eta': 0.01, 'eval_metric': 'mae', 'tree_method': 'hist'} 2.31916\n",
      "{'gamma ': 1.6871636600972928, 'max_depth': 15, 'nthread': 4, 'colsample_bylevel': 0.678514316416579, 'subsample': 0.3009105665841292, 'lambda': 0.6660498229306921, 'alpha': 1.8166927737368628, 'grow_policy': 'lossguide', 'max_bin': 256, 'eta': 0.01, 'eval_metric': 'mae', 'tree_method': 'hist'} 2.40668\n",
      "{'gamma ': 5.919746932614278, 'max_depth': 6, 'nthread': 4, 'colsample_bylevel': 0.4436207321389278, 'subsample': 0.2546836163173038, 'lambda': 2.990556070861799, 'alpha': 2.7472784965852255, 'grow_policy': 'lossguide', 'max_bin': 1024, 'eta': 0.01, 'eval_metric': 'mae', 'tree_method': 'hist'} 2.31119\n",
      "{'gamma ': 6.742988811198927, 'max_depth': 5, 'nthread': 4, 'colsample_bylevel': 0.4317680868718706, 'subsample': 0.3611976328855696, 'lambda': 2.517039609600271, 'alpha': 2.3828624621587857, 'grow_policy': 'lossguide', 'max_bin': 64, 'eta': 0.01, 'eval_metric': 'mae', 'tree_method': 'hist'} 2.321653\n",
      "{'gamma ': 3.9116083712732563, 'max_depth': 20, 'nthread': 4, 'colsample_bylevel': 0.6840109441459958, 'subsample': 0.47027312519619363, 'lambda': 2.5680344288589674, 'alpha': 0.4379641039704789, 'grow_policy': 'lossguide', 'max_bin': 256, 'eta': 0.01, 'eval_metric': 'mae', 'tree_method': 'hist'} 2.358887\n",
      "{'gamma ': 4.545910839836534, 'max_depth': 8, 'nthread': 4, 'colsample_bylevel': 0.3076847718161888, 'subsample': 0.5875770627572408, 'lambda': 0.3127623885432418, 'alpha': 0.24148787484678724, 'grow_policy': 'lossguide', 'max_bin': 1024, 'eta': 0.01, 'eval_metric': 'mae', 'tree_method': 'hist'} 2.502343\n",
      "{'gamma ': 8.471621572913502, 'max_depth': 23, 'nthread': 4, 'colsample_bylevel': 0.27020229448428645, 'subsample': 0.5466037802996735, 'lambda': 2.438516223342426, 'alpha': 2.681976887259968, 'grow_policy': 'lossguide', 'max_bin': 128, 'eta': 0.01, 'eval_metric': 'mae', 'tree_method': 'hist'} 2.367969\n",
      "{'gamma ': 7.943320495546996, 'max_depth': 19, 'nthread': 4, 'colsample_bylevel': 0.7018825282325385, 'subsample': 0.6180844867563161, 'lambda': 2.6762244634066557, 'alpha': 1.5146227870693538, 'grow_policy': 'depthwise', 'max_bin': 128, 'eta': 0.01, 'eval_metric': 'mae', 'tree_method': 'hist'} 2.380844\n",
      "{'gamma ': 6.585785090470152, 'max_depth': 19, 'nthread': 4, 'colsample_bylevel': 0.7164682353360514, 'subsample': 0.781821200424611, 'lambda': 1.3977847850094838, 'alpha': 1.959296667831186, 'grow_policy': 'lossguide', 'max_bin': 512, 'eta': 0.01, 'eval_metric': 'mae', 'tree_method': 'hist'} 2.315989\n",
      "{'gamma ': 2.1855496074465974, 'max_depth': 7, 'nthread': 4, 'colsample_bylevel': 0.7990499936233579, 'subsample': 0.5124786934079395, 'lambda': 1.915402309943309, 'alpha': 1.2551732294755396, 'grow_policy': 'lossguide', 'max_bin': 512, 'eta': 0.01, 'eval_metric': 'mae', 'tree_method': 'hist'} 2.284415\n",
      "{'gamma ': 1.2190949332653178, 'max_depth': 15, 'nthread': 4, 'colsample_bylevel': 0.27127884422578963, 'subsample': 0.6286378723904468, 'lambda': 1.6530563642376181, 'alpha': 3.3337174910566594, 'grow_policy': 'lossguide', 'max_bin': 128, 'eta': 0.01, 'eval_metric': 'mae', 'tree_method': 'hist'} 2.393528\n",
      "{'gamma ': 8.195280548610835, 'max_depth': 19, 'nthread': 4, 'colsample_bylevel': 0.20103586823849304, 'subsample': 0.3714325381613797, 'lambda': 0.5763704295316954, 'alpha': 1.6807140058732895, 'grow_policy': 'depthwise', 'max_bin': 256, 'eta': 0.01, 'eval_metric': 'mae', 'tree_method': 'hist'} 2.304751\n",
      "{'gamma ': 1.8177166514409293, 'max_depth': 21, 'nthread': 4, 'colsample_bylevel': 0.492596168909139, 'subsample': 0.5943535931230717, 'lambda': 2.4836433715053183, 'alpha': 1.7241862082183697, 'grow_policy': 'depthwise', 'max_bin': 512, 'eta': 0.01, 'eval_metric': 'mae', 'tree_method': 'hist'} 2.368686\n",
      "{'gamma ': 8.772641292751809, 'max_depth': 15, 'nthread': 4, 'colsample_bylevel': 0.21547882833897816, 'subsample': 0.4356734289273939, 'lambda': 2.7769417956944475, 'alpha': 2.8651646756870286, 'grow_policy': 'lossguide', 'max_bin': 1024, 'eta': 0.01, 'eval_metric': 'mae', 'tree_method': 'hist'} 2.343151\n",
      "{'gamma ': 3.323519178667219, 'max_depth': 16, 'nthread': 4, 'colsample_bylevel': 0.6607433310334851, 'subsample': 0.5119620033588936, 'lambda': 2.05228573240342, 'alpha': 0.5702238545604872, 'grow_policy': 'lossguide', 'max_bin': 256, 'eta': 0.01, 'eval_metric': 'mae', 'tree_method': 'hist'} 2.370339\n",
      "{'gamma ': 4.922629350091224, 'max_depth': 21, 'nthread': 4, 'colsample_bylevel': 0.49728727034129194, 'subsample': 0.23641215672691931, 'lambda': 0.6580371178228703, 'alpha': 0.8148299682422597, 'grow_policy': 'depthwise', 'max_bin': 1024, 'eta': 0.01, 'eval_metric': 'mae', 'tree_method': 'hist'} 2.372819\n",
      "{'gamma ': 0.8953016966432581, 'max_depth': 16, 'nthread': 4, 'colsample_bylevel': 0.2954328239030877, 'subsample': 0.30729781606460843, 'lambda': 1.816162710314388, 'alpha': 3.4035767549344484, 'grow_policy': 'lossguide', 'max_bin': 256, 'eta': 0.01, 'eval_metric': 'mae', 'tree_method': 'hist'} 2.337956\n"
     ]
    },
    {
     "name": "stdout",
     "output_type": "stream",
     "text": [
      "{'gamma ': 6.962103480365068, 'max_depth': 17, 'nthread': 4, 'colsample_bylevel': 0.45329249325626025, 'subsample': 0.265344952070706, 'lambda': 0.44514092255012816, 'alpha': 2.295797374450342, 'grow_policy': 'lossguide', 'max_bin': 128, 'eta': 0.01, 'eval_metric': 'mae', 'tree_method': 'hist'} 2.348826\n",
      "{'gamma ': 6.023101313117167, 'max_depth': 16, 'nthread': 4, 'colsample_bylevel': 0.5140620009836314, 'subsample': 0.7668724957333979, 'lambda': 2.724784871540132, 'alpha': 3.4963603579315925, 'grow_policy': 'lossguide', 'max_bin': 512, 'eta': 0.01, 'eval_metric': 'mae', 'tree_method': 'hist'} 2.413561\n",
      "{'gamma ': 5.4620332453149425, 'max_depth': 19, 'nthread': 4, 'colsample_bylevel': 0.26546742087005093, 'subsample': 0.33410637525284603, 'lambda': 2.2262224054074475, 'alpha': 1.8573249358718562, 'grow_policy': 'lossguide', 'max_bin': 512, 'eta': 0.01, 'eval_metric': 'mae', 'tree_method': 'hist'} 2.355312\n",
      "{'gamma ': 8.618318890120966, 'max_depth': 10, 'nthread': 4, 'colsample_bylevel': 0.5457009668134429, 'subsample': 0.4115673929300103, 'lambda': 3.384656629779462, 'alpha': 0.6301081025875295, 'grow_policy': 'depthwise', 'max_bin': 512, 'eta': 0.01, 'eval_metric': 'mae', 'tree_method': 'hist'} 2.346987\n",
      "{'gamma ': 3.4157785726240206, 'max_depth': 2, 'nthread': 4, 'colsample_bylevel': 0.218851820687057, 'subsample': 0.5179932634969806, 'lambda': 2.8886469574515945, 'alpha': 1.5997338220882908, 'grow_policy': 'lossguide', 'max_bin': 128, 'eta': 0.01, 'eval_metric': 'mae', 'tree_method': 'hist'} 2.33831\n",
      "{'gamma ': 1.7165813412751374, 'max_depth': 22, 'nthread': 4, 'colsample_bylevel': 0.20533141940467828, 'subsample': 0.2834859479100105, 'lambda': 3.6366220778901606, 'alpha': 2.5870777544046204, 'grow_policy': 'depthwise', 'max_bin': 1024, 'eta': 0.01, 'eval_metric': 'mae', 'tree_method': 'hist'} 2.319304\n",
      "{'gamma ': 7.2982573551590635, 'max_depth': 17, 'nthread': 4, 'colsample_bylevel': 0.3262434913968587, 'subsample': 0.25212791324628087, 'lambda': 0.7157814190392608, 'alpha': 2.9665439369926503, 'grow_policy': 'depthwise', 'max_bin': 64, 'eta': 0.01, 'eval_metric': 'mae', 'tree_method': 'hist'} 2.33601\n",
      "{'gamma ': 0.14900752144884954, 'max_depth': 8, 'nthread': 4, 'colsample_bylevel': 0.7655909905477707, 'subsample': 0.25205861932880236, 'lambda': 0.2740361096819255, 'alpha': 0.40438750260461775, 'grow_policy': 'lossguide', 'max_bin': 64, 'eta': 0.01, 'eval_metric': 'mae', 'tree_method': 'hist'} 2.399218\n",
      "{'gamma ': 7.434156411051113, 'max_depth': 3, 'nthread': 4, 'colsample_bylevel': 0.30794817885288106, 'subsample': 0.40064702775275457, 'lambda': 3.8578237798496953, 'alpha': 2.7891107240911133, 'grow_policy': 'lossguide', 'max_bin': 1024, 'eta': 0.01, 'eval_metric': 'mae', 'tree_method': 'hist'} 2.277177\n",
      "{'gamma ': 0.7128645875507245, 'max_depth': 22, 'nthread': 4, 'colsample_bylevel': 0.7078215201301363, 'subsample': 0.3073820325369453, 'lambda': 3.0377744012341443, 'alpha': 0.5534070041085788, 'grow_policy': 'depthwise', 'max_bin': 1024, 'eta': 0.01, 'eval_metric': 'mae', 'tree_method': 'hist'} 2.342356\n",
      "{'gamma ': 1.5625092416640474, 'max_depth': 7, 'nthread': 4, 'colsample_bylevel': 0.4436974953866109, 'subsample': 0.5161931293790072, 'lambda': 3.8495852226335523, 'alpha': 2.561690899611618, 'grow_policy': 'depthwise', 'max_bin': 64, 'eta': 0.01, 'eval_metric': 'mae', 'tree_method': 'hist'} 2.27097\n",
      "{'gamma ': 0.4001532589690726, 'max_depth': 6, 'nthread': 4, 'colsample_bylevel': 0.4400368235025884, 'subsample': 0.403394732019441, 'lambda': 0.5781968805003421, 'alpha': 2.0634214506781072, 'grow_policy': 'depthwise', 'max_bin': 512, 'eta': 0.01, 'eval_metric': 'mae', 'tree_method': 'hist'} 2.442767\n",
      "{'gamma ': 2.0841855453756786, 'max_depth': 7, 'nthread': 4, 'colsample_bylevel': 0.63391210654993, 'subsample': 0.5357705824897012, 'lambda': 1.009130268592672, 'alpha': 3.3778140521172153, 'grow_policy': 'depthwise', 'max_bin': 1024, 'eta': 0.01, 'eval_metric': 'mae', 'tree_method': 'hist'} 2.436073\n"
     ]
    }
   ],
   "source": [
    "for i in range(iterations):\n",
    "    param = {}\n",
    "    results = {}\n",
    "\n",
    "    param['gamma '] = np.random.rand()*10\n",
    "    param['max_depth'] = np.random.randint(2,24)\n",
    "    param['nthread'] = 4\n",
    "    param['colsample_bylevel'] = 0.2 + np.random.rand()*0.6\n",
    "    param['subsample'] = 0.2 + np.random.rand()*0.6\n",
    "    param['lambda'] = np.random.rand()*4\n",
    "    param['alpha'] = np.random.rand()*4\n",
    "    param['grow_policy'] = np.random.choice(['depthwise','lossguide'])\n",
    "    param['max_bin'] = np.random.choice([64,128,256,512,1024])\n",
    "    obj = np.random.choice([MAE_obj,huber_approx_obj,fair_obj,log_cosh_obj])\n",
    "\n",
    "\n",
    "    param['eta'] = 0.01\n",
    "    param['eval_metric'] = 'mae'\n",
    "    param['tree_method'] = 'hist'\n",
    "\n",
    "    num_round = 1000\n",
    "\n",
    "    GBM = xgb.train(param, dtrain, num_round, watchlist, \n",
    "                    obj=obj,verbose_eval=False,early_stopping_rounds=50,evals_result=results)\n",
    "\n",
    "    min_loss = min(results['val']['mae'])\n",
    "    if min_loss<2.35:\n",
    "        GBM.save_model('../Model/'+name+str(min_loss)+'.model')\n",
    "        submission.iloc[:,1] = GBM.predict(dtest,ntree_limit=GBM.best_ntree_limit)\n",
    "        submission.to_csv('../Submission/gbms/'+name+str(min_loss)+'.csv',index=False)\n",
    "\n",
    "    print(param,min_loss)"
   ]
  },
  {
   "cell_type": "code",
   "execution_count": null,
   "metadata": {},
   "outputs": [],
   "source": []
  }
 ],
 "metadata": {
  "kernelspec": {
   "display_name": "Python 3",
   "language": "python",
   "name": "python3"
  },
  "language_info": {
   "codemirror_mode": {
    "name": "ipython",
    "version": 3
   },
   "file_extension": ".py",
   "mimetype": "text/x-python",
   "name": "python",
   "nbconvert_exporter": "python",
   "pygments_lexer": "ipython3",
   "version": "3.7.2"
  }
 },
 "nbformat": 4,
 "nbformat_minor": 2
}
