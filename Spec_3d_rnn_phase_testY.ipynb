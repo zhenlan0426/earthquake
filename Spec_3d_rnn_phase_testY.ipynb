{
 "cells": [
  {
   "cell_type": "code",
   "execution_count": 1,
   "metadata": {},
   "outputs": [],
   "source": [
    "import pandas as pd\n",
    "import numpy as np\n",
    "from functions import *\n",
    "from pytorch_util import *\n",
    "from pytorch_models import ConvBatchLeaky,GRU_NCL,LambdaLayer\n",
    "from torch.nn import Linear,Sequential,LeakyReLU,Dropout,L1Loss,BatchNorm2d\n",
    "from torch.utils.data import DataLoader\n",
    "from torch.optim import Adam"
   ]
  },
  {
   "cell_type": "code",
   "execution_count": 2,
   "metadata": {},
   "outputs": [],
   "source": [
    "train = pd.read_csv(\"../Data/train.csv\", \n",
    "                    dtype={'acoustic_data': np.float32, 'time_to_failure': np.float32})\n",
    "train = train.values"
   ]
  },
  {
   "cell_type": "code",
   "execution_count": 116,
   "metadata": {},
   "outputs": [],
   "source": [
    "## change ##\n",
    "batch_size = 16\n",
    "clip = .25\n",
    "name = 'spec_3d_phase_testY'\n",
    "testY = pd.read_csv('../Submission/gbm0.csv')\n",
    "pList = [0.9,0.1]"
   ]
  },
  {
   "cell_type": "code",
   "execution_count": 81,
   "metadata": {},
   "outputs": [],
   "source": [
    "def transformFun(x):\n",
    "    _,_,s1 = spectrogram(x,nperseg=256,noverlap=256//4,mode='phase')\n",
    "    _,_,s2 = spectrogram(x,nperseg=256,noverlap=256//4)\n",
    "    return np.stack([np.log(s2+1e-6),s1],0)"
   ]
  },
  {
   "cell_type": "code",
   "execution_count": null,
   "metadata": {},
   "outputs": [],
   "source": []
  },
  {
   "cell_type": "markdown",
   "metadata": {},
   "source": [
    "Prepare data"
   ]
  },
  {
   "cell_type": "code",
   "execution_count": 117,
   "metadata": {},
   "outputs": [],
   "source": [
    "train_gen = SequenceGenTransform(train,transformFun)\n",
    "temp_gen = SequenceGenTestY(testY,transformFun)\n",
    "train_gen = SequenceCombine([train_gen,temp_gen],pList)\n",
    "train_gen = DataLoader(train_gen,batch_size,False,num_workers=2)\n",
    "\n",
    "\n",
    "val_gen = SequenceGenTransform(train,transformFun,False)\n",
    "val_gen = DataLoader(val_gen,batch_size,False,num_workers=2)"
   ]
  },
  {
   "cell_type": "code",
   "execution_count": null,
   "metadata": {},
   "outputs": [],
   "source": []
  },
  {
   "cell_type": "code",
   "execution_count": null,
   "metadata": {},
   "outputs": [],
   "source": []
  },
  {
   "cell_type": "markdown",
   "metadata": {},
   "source": [
    "Build model"
   ]
  },
  {
   "cell_type": "code",
   "execution_count": 118,
   "metadata": {},
   "outputs": [],
   "source": [
    "convNets = Sequential(BatchNorm2d(2),\n",
    "                      ConvBatchLeaky(2,4,(5,3),stride=(2,1)),\n",
    "                      Dropout(0.5),\n",
    "                      ConvBatchLeaky(4,8,(5,3),stride=(2,1)),\n",
    "                      Dropout(0.5),\n",
    "                      ConvBatchLeaky(8,16,(5,5),stride=(2,2)),\n",
    "                      Dropout(0.5),\n",
    "                      ConvBatchLeaky(16,32,(3,3),stride=(2,2)),\n",
    "                      Dropout(0.5),\n",
    "                      LambdaLayer(lambda x:x.view(-1,32*6,192)),\n",
    "                      GRU_NCL(192,192,2,batch_first=True,dropout=0.5,bidirectional=True,returnH=True))"
   ]
  },
  {
   "cell_type": "code",
   "execution_count": 119,
   "metadata": {},
   "outputs": [],
   "source": [
    "linear = Sequential(Dropout(0.5),Linear(192,128),LeakyReLU(0.1,True),Dropout(0.25),Linear(128,1))"
   ]
  },
  {
   "cell_type": "code",
   "execution_count": 120,
   "metadata": {},
   "outputs": [],
   "source": [
    "# train from scratch \n",
    "# model = CNN_RNN2seq_transpose(convNets,linear).to('cuda:0')"
   ]
  },
  {
   "cell_type": "code",
   "execution_count": 121,
   "metadata": {},
   "outputs": [],
   "source": [
    "# fine tune\n",
    "model = CNN_RNN2seq_transpose(convNets,linear)\n",
    "model.load_state_dict(torch.load('../Model/spec_3d_phase.pt'))\n",
    "model = model.to('cuda:0')"
   ]
  },
  {
   "cell_type": "code",
   "execution_count": 122,
   "metadata": {},
   "outputs": [],
   "source": [
    "opt = Adam(trainable_parameter(model),lr=2e-4)"
   ]
  },
  {
   "cell_type": "code",
   "execution_count": 123,
   "metadata": {},
   "outputs": [],
   "source": [
    "loss_func_nor = loss_func_generator(L1Loss())"
   ]
  },
  {
   "cell_type": "code",
   "execution_count": null,
   "metadata": {},
   "outputs": [],
   "source": []
  },
  {
   "cell_type": "code",
   "execution_count": null,
   "metadata": {},
   "outputs": [],
   "source": []
  },
  {
   "cell_type": "markdown",
   "metadata": {},
   "source": [
    "Training"
   ]
  },
  {
   "cell_type": "code",
   "execution_count": 124,
   "metadata": {},
   "outputs": [
    {
     "name": "stdout",
     "output_type": "stream",
     "text": [
      "epoch:0, train_loss:2.052517512956491, val_loss:2.349804162979126\n",
      "epoch:1, train_loss:2.0199566214130473, val_loss:2.370410203933716\n",
      "epoch:2, train_loss:2.043987082174191, val_loss:2.345155715942383\n",
      "epoch:3, train_loss:2.019066894856783, val_loss:2.3506112098693848\n",
      "epoch:4, train_loss:2.0150464543929467, val_loss:2.3627336025238037\n",
      "Training completed in 104.18790936470032s\n"
     ]
    }
   ],
   "source": [
    "# fine-tune on spec_3d_rnn_phase\n",
    "model = fit(5, model, loss_func_nor, opt, train_gen, val_gen,clip=clip)"
   ]
  },
  {
   "cell_type": "code",
   "execution_count": null,
   "metadata": {},
   "outputs": [],
   "source": []
  },
  {
   "cell_type": "code",
   "execution_count": 88,
   "metadata": {},
   "outputs": [
    {
     "name": "stdout",
     "output_type": "stream",
     "text": [
      "epoch:0, train_loss:3.1456280344953904, val_loss:3.328080654144287\n",
      "epoch:1, train_loss:2.6442493395163464, val_loss:2.6316452026367188\n",
      "epoch:2, train_loss:2.1626721918582916, val_loss:2.7248167991638184\n",
      "epoch:3, train_loss:2.151882865681098, val_loss:2.6437723636627197\n",
      "epoch:4, train_loss:2.1047244100616527, val_loss:2.4694244861602783\n",
      "epoch:5, train_loss:2.0898225098275223, val_loss:2.6106884479522705\n",
      "epoch:6, train_loss:2.067967221713983, val_loss:2.6209089756011963\n",
      "epoch:7, train_loss:2.0731137515260625, val_loss:2.6602070331573486\n",
      "epoch:8, train_loss:2.051861607684539, val_loss:2.5590362548828125\n",
      "epoch:9, train_loss:2.0509912087940254, val_loss:2.5647647380828857\n",
      "epoch:10, train_loss:2.0512946935800405, val_loss:2.4581918716430664\n",
      "epoch:11, train_loss:2.0564027978823733, val_loss:2.5388691425323486\n",
      "epoch:12, train_loss:2.0372342524620204, val_loss:2.326343297958374\n",
      "epoch:13, train_loss:2.0451640773278017, val_loss:2.414299964904785\n",
      "epoch:14, train_loss:2.035420723259449, val_loss:2.396895408630371\n",
      "Training completed in 308.85235714912415s\n"
     ]
    }
   ],
   "source": [
    "# train from scratch \n",
    "model = fit(15, model, loss_func_nor, opt, train_gen, val_gen,clip=clip)"
   ]
  },
  {
   "cell_type": "code",
   "execution_count": null,
   "metadata": {},
   "outputs": [],
   "source": []
  },
  {
   "cell_type": "code",
   "execution_count": null,
   "metadata": {},
   "outputs": [],
   "source": []
  },
  {
   "cell_type": "markdown",
   "metadata": {},
   "source": [
    "Save Model and make Submission"
   ]
  },
  {
   "cell_type": "code",
   "execution_count": 3,
   "metadata": {},
   "outputs": [],
   "source": [
    "submission = pd.read_csv('../Data/sample_submission.csv')"
   ]
  },
  {
   "cell_type": "code",
   "execution_count": 34,
   "metadata": {},
   "outputs": [],
   "source": [
    "test_gen = SequenceGenTransformTest(submission.seg_id.tolist(),transformFun)\n",
    "test_gen = DataLoader(test_gen,batch_size,False,num_workers=2)"
   ]
  },
  {
   "cell_type": "code",
   "execution_count": 35,
   "metadata": {},
   "outputs": [],
   "source": [
    "submission.iloc[:,1] = predict(model,test_gen)"
   ]
  },
  {
   "cell_type": "code",
   "execution_count": 36,
   "metadata": {},
   "outputs": [],
   "source": [
    "submission.to_csv('../Submission/'+name+'.csv',index=False)"
   ]
  },
  {
   "cell_type": "code",
   "execution_count": 39,
   "metadata": {},
   "outputs": [],
   "source": [
    "torch.save(model.state_dict(), '../Model/'+name+'.pt') "
   ]
  },
  {
   "cell_type": "code",
   "execution_count": null,
   "metadata": {},
   "outputs": [],
   "source": []
  },
  {
   "cell_type": "code",
   "execution_count": null,
   "metadata": {},
   "outputs": [],
   "source": []
  },
  {
   "cell_type": "code",
   "execution_count": null,
   "metadata": {},
   "outputs": [],
   "source": []
  }
 ],
 "metadata": {
  "kernelspec": {
   "display_name": "Python 3",
   "language": "python",
   "name": "python3"
  },
  "language_info": {
   "codemirror_mode": {
    "name": "ipython",
    "version": 3
   },
   "file_extension": ".py",
   "mimetype": "text/x-python",
   "name": "python",
   "nbconvert_exporter": "python",
   "pygments_lexer": "ipython3",
   "version": "3.7.2"
  }
 },
 "nbformat": 4,
 "nbformat_minor": 2
}
