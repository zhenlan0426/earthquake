{
 "cells": [
  {
   "cell_type": "code",
   "execution_count": 2,
   "metadata": {},
   "outputs": [],
   "source": [
    "import pandas as pd\n",
    "import numpy as np\n",
    "from functions import *\n",
    "from pytorch_util import *\n",
    "from pytorch_models import ConvBatchLeaky,GRU_NCL,LambdaLayer\n",
    "from torch.nn import Linear,Sequential,LeakyReLU,Dropout,L1Loss,BatchNorm2d\n",
    "from torch.utils.data import DataLoader\n",
    "from torch.optim import Adam\n",
    "from pywt import cwt"
   ]
  },
  {
   "cell_type": "code",
   "execution_count": 2,
   "metadata": {},
   "outputs": [],
   "source": [
    "train = pd.read_csv(\"../Data/train.csv\", \n",
    "                    dtype={'acoustic_data': np.float32, 'time_to_failure': np.float32})\n",
    "train = train.values"
   ]
  },
  {
   "cell_type": "code",
   "execution_count": 3,
   "metadata": {},
   "outputs": [],
   "source": [
    "## change ##\n",
    "batch_size = 16\n",
    "clip = .5\n",
    "name = 'spec_3d_phase'"
   ]
  },
  {
   "cell_type": "code",
   "execution_count": 4,
   "metadata": {},
   "outputs": [],
   "source": [
    "def transformFun(x):\n",
    "    _,_,s1 = spectrogram(x,nperseg=256,noverlap=256//4,mode='phase')\n",
    "    _,_,s2 = spectrogram(x,nperseg=256,noverlap=256//4)\n",
    "    return np.stack([np.log(s2+1e-6),s1],0)"
   ]
  },
  {
   "cell_type": "code",
   "execution_count": null,
   "metadata": {},
   "outputs": [],
   "source": []
  },
  {
   "cell_type": "markdown",
   "metadata": {},
   "source": [
    "Prepare data"
   ]
  },
  {
   "cell_type": "code",
   "execution_count": 14,
   "metadata": {},
   "outputs": [],
   "source": [
    "train_gen = SequenceGenTransform(train,transformFun)\n",
    "train_gen = DataLoader(train_gen,batch_size,False,num_workers=2)\n",
    "\n",
    "val_gen = SequenceGenTransform(train,transformFun,False)\n",
    "val_gen = DataLoader(val_gen,batch_size,False,num_workers=2)"
   ]
  },
  {
   "cell_type": "code",
   "execution_count": null,
   "metadata": {},
   "outputs": [],
   "source": []
  },
  {
   "cell_type": "code",
   "execution_count": null,
   "metadata": {},
   "outputs": [],
   "source": []
  },
  {
   "cell_type": "markdown",
   "metadata": {},
   "source": [
    "Build model"
   ]
  },
  {
   "cell_type": "code",
   "execution_count": 24,
   "metadata": {},
   "outputs": [],
   "source": [
    "class CNN_RNN2seq_transpose(nn.Module):\n",
    "    def __init__(self,conv,linear):\n",
    "        super().__init__()\n",
    "        self.conv = conv \n",
    "        self.linear = linear\n",
    "        self.convert = Linear(1,1)\n",
    "        \n",
    "    def forward(self,x):\n",
    "        n = x.shape[0]\n",
    "        _,x = self.conv(x)\n",
    "        x = x.contiguous().view(n*4,-1)\n",
    "        x = self.linear(x).squeeze(1)\n",
    "        x = x.view(n,4).mean(1,keepdim=True)\n",
    "        return self.convert(x).squeeze(1)"
   ]
  },
  {
   "cell_type": "code",
   "execution_count": 25,
   "metadata": {},
   "outputs": [],
   "source": [
    "convNets = Sequential(BatchNorm2d(2),\n",
    "                      ConvBatchLeaky(2,4,(5,3),stride=(2,1)),\n",
    "                      Dropout(0.5),\n",
    "                      ConvBatchLeaky(4,8,(5,3),stride=(2,1)),\n",
    "                      Dropout(0.5),\n",
    "                      ConvBatchLeaky(8,16,(5,5),stride=(2,2)),\n",
    "                      Dropout(0.5),\n",
    "                      ConvBatchLeaky(16,32,(3,3),stride=(2,2)),\n",
    "                      Dropout(0.5),\n",
    "                      LambdaLayer(lambda x:x.view(-1,32*6,192)),\n",
    "                      GRU_NCL(192,192,2,batch_first=True,dropout=0.5,bidirectional=True,returnH=True))"
   ]
  },
  {
   "cell_type": "code",
   "execution_count": 26,
   "metadata": {},
   "outputs": [],
   "source": [
    "linear = Sequential(Dropout(0.5),Linear(192,128),LeakyReLU(0.1,True),Dropout(0.25),Linear(128,1))"
   ]
  },
  {
   "cell_type": "code",
   "execution_count": 27,
   "metadata": {},
   "outputs": [],
   "source": [
    "model = CNN_RNN2seq_transpose(convNets,linear).to('cuda:0')"
   ]
  },
  {
   "cell_type": "code",
   "execution_count": 28,
   "metadata": {},
   "outputs": [],
   "source": [
    "opt = Adam(trainable_parameter(model),lr=1e-3)"
   ]
  },
  {
   "cell_type": "code",
   "execution_count": 29,
   "metadata": {},
   "outputs": [],
   "source": [
    "loss_func_nor = loss_func_generator(L1Loss())"
   ]
  },
  {
   "cell_type": "code",
   "execution_count": null,
   "metadata": {},
   "outputs": [],
   "source": []
  },
  {
   "cell_type": "markdown",
   "metadata": {},
   "source": [
    "Training"
   ]
  },
  {
   "cell_type": "code",
   "execution_count": 30,
   "metadata": {
    "scrolled": true
   },
   "outputs": [
    {
     "name": "stdout",
     "output_type": "stream",
     "text": [
      "epoch:0, train_loss:3.1499250645820913, val_loss:3.288658618927002\n",
      "epoch:1, train_loss:2.5850988798416576, val_loss:2.40602970123291\n",
      "epoch:2, train_loss:2.279357135295868, val_loss:2.373061180114746\n",
      "epoch:3, train_loss:2.257580471153443, val_loss:2.417478084564209\n",
      "epoch:4, train_loss:2.244616737159399, val_loss:2.3783562183380127\n",
      "Training completed in 94.51108837127686s\n"
     ]
    }
   ],
   "source": [
    "model = fit(5, model, loss_func_nor, opt, train_gen, val_gen,clip=clip)"
   ]
  },
  {
   "cell_type": "code",
   "execution_count": 31,
   "metadata": {},
   "outputs": [
    {
     "name": "stdout",
     "output_type": "stream",
     "text": [
      "epoch:0, train_loss:2.235746955069212, val_loss:2.4133412837982178\n",
      "epoch:1, train_loss:2.2379325083815136, val_loss:2.378225088119507\n",
      "epoch:2, train_loss:2.1955712873202105, val_loss:2.3508412837982178\n",
      "epoch:3, train_loss:2.1763606999929133, val_loss:2.3603460788726807\n",
      "epoch:4, train_loss:2.200246194234261, val_loss:2.355538845062256\n",
      "Training completed in 93.81093525886536s\n"
     ]
    }
   ],
   "source": [
    "model = fit(5, model, loss_func_nor, opt, train_gen, val_gen,clip=clip,lossBest=2.373)"
   ]
  },
  {
   "cell_type": "code",
   "execution_count": null,
   "metadata": {},
   "outputs": [],
   "source": []
  },
  {
   "cell_type": "code",
   "execution_count": null,
   "metadata": {},
   "outputs": [],
   "source": []
  },
  {
   "cell_type": "markdown",
   "metadata": {},
   "source": [
    "Save Model and make Submission"
   ]
  },
  {
   "cell_type": "code",
   "execution_count": 3,
   "metadata": {},
   "outputs": [],
   "source": [
    "submission = pd.read_csv('../Data/sample_submission.csv')"
   ]
  },
  {
   "cell_type": "code",
   "execution_count": 34,
   "metadata": {},
   "outputs": [],
   "source": [
    "test_gen = SequenceGenTransformTest(submission.seg_id.tolist(),transformFun)\n",
    "test_gen = DataLoader(test_gen,batch_size,False,num_workers=2)"
   ]
  },
  {
   "cell_type": "code",
   "execution_count": 35,
   "metadata": {},
   "outputs": [],
   "source": [
    "submission.iloc[:,1] = predict(model,test_gen)"
   ]
  },
  {
   "cell_type": "code",
   "execution_count": 36,
   "metadata": {},
   "outputs": [],
   "source": [
    "submission.to_csv('../Submission/'+name+'.csv',index=False)"
   ]
  },
  {
   "cell_type": "code",
   "execution_count": 39,
   "metadata": {},
   "outputs": [],
   "source": [
    "torch.save(model.state_dict(), '../Model/'+name+'.pt') "
   ]
  },
  {
   "cell_type": "code",
   "execution_count": null,
   "metadata": {},
   "outputs": [],
   "source": []
  },
  {
   "cell_type": "code",
   "execution_count": null,
   "metadata": {},
   "outputs": [],
   "source": []
  },
  {
   "cell_type": "code",
   "execution_count": null,
   "metadata": {},
   "outputs": [],
   "source": []
  }
 ],
 "metadata": {
  "kernelspec": {
   "display_name": "Python 3",
   "language": "python",
   "name": "python3"
  },
  "language_info": {
   "codemirror_mode": {
    "name": "ipython",
    "version": 3
   },
   "file_extension": ".py",
   "mimetype": "text/x-python",
   "name": "python",
   "nbconvert_exporter": "python",
   "pygments_lexer": "ipython3",
   "version": "3.7.2"
  }
 },
 "nbformat": 4,
 "nbformat_minor": 2
}
