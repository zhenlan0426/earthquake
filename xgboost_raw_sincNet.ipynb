{
 "cells": [
  {
   "cell_type": "code",
   "execution_count": 3,
   "metadata": {},
   "outputs": [],
   "source": [
    "import pandas as pd\n",
    "import numpy as np\n",
    "import xgboost as xgb"
   ]
  },
  {
   "cell_type": "code",
   "execution_count": 4,
   "metadata": {},
   "outputs": [],
   "source": [
    "name = 'xgboost_raw_sincNet'"
   ]
  },
  {
   "cell_type": "code",
   "execution_count": 5,
   "metadata": {},
   "outputs": [],
   "source": [
    "submission = pd.read_csv('../Data/sample_submission.csv')"
   ]
  },
  {
   "cell_type": "code",
   "execution_count": 6,
   "metadata": {},
   "outputs": [],
   "source": [
    "train_X = pd.read_csv('../Data/train_X_xgb.csv',index_col=0)\n",
    "train_y = pd.read_csv('../Data/train_y_xgb.csv',index_col=0)\n",
    "val_X = pd.read_csv('../Data/val_X_xgb.csv',index_col=0)\n",
    "val_y = pd.read_csv('../Data/val_y_xgb.csv',index_col=0)\n",
    "test_X = pd.read_csv('../Data/test_X_xgb.csv',index_col=0)"
   ]
  },
  {
   "cell_type": "code",
   "execution_count": 7,
   "metadata": {},
   "outputs": [],
   "source": [
    "dtrain = xgb.DMatrix(train_X.values, label=train_y.values)\n",
    "dval = xgb.DMatrix(val_X.values, label=val_y.values)\n",
    "dtest = xgb.DMatrix(test_X.values)"
   ]
  },
  {
   "cell_type": "code",
   "execution_count": 11,
   "metadata": {},
   "outputs": [],
   "source": [
    "margin_train = np.load('../Model/'+name[8:]+'_train.npy')\n",
    "margin_val = np.load('../Model/'+name[8:]+'_val.npy')\n",
    "margin_test = pd.read_csv('../Submission/'+name[8:]+'.csv').time_to_failure.values"
   ]
  },
  {
   "cell_type": "code",
   "execution_count": 18,
   "metadata": {},
   "outputs": [],
   "source": [
    "# set margin\n",
    "dtrain.set_base_margin(margin_train)\n",
    "dval.set_base_margin(margin_val)\n",
    "dtest.set_base_margin(margin_test)"
   ]
  },
  {
   "cell_type": "code",
   "execution_count": null,
   "metadata": {},
   "outputs": [],
   "source": []
  },
  {
   "cell_type": "markdown",
   "metadata": {},
   "source": [
    "Build model"
   ]
  },
  {
   "cell_type": "code",
   "execution_count": 19,
   "metadata": {},
   "outputs": [],
   "source": [
    "watchlist = [(dtrain, 'train'), (dval, 'val')]"
   ]
  },
  {
   "cell_type": "code",
   "execution_count": 33,
   "metadata": {},
   "outputs": [],
   "source": [
    "param = {}\n",
    "param['eta'] = 0.01\n",
    "param['gamma '] = 1\n",
    "param['max_depth'] = 6\n",
    "param['nthread'] = 4\n",
    "param['colsample_bylevel'] = 0.33\n",
    "param['subsample'] = 0.33\n",
    "param['eval_metric'] = 'mae'\n",
    "param['tree_method'] = 'hist'\n",
    "num_round = 1000 "
   ]
  },
  {
   "cell_type": "code",
   "execution_count": 29,
   "metadata": {},
   "outputs": [],
   "source": [
    "def MAE_obj(preds, dtrain):\n",
    "    labels = dtrain.get_label()\n",
    "    grad = np.where(preds>labels,1.0,-1.0)\n",
    "    hess = np.ones_like(grad)\n",
    "    return grad, hess"
   ]
  },
  {
   "cell_type": "code",
   "execution_count": null,
   "metadata": {},
   "outputs": [],
   "source": []
  },
  {
   "cell_type": "markdown",
   "metadata": {},
   "source": [
    "GBM on top of NN base"
   ]
  },
  {
   "cell_type": "code",
   "execution_count": 34,
   "metadata": {},
   "outputs": [
    {
     "name": "stdout",
     "output_type": "stream",
     "text": [
      "[0]\ttrain-mae:2.05416\tval-mae:2.36642\n",
      "[100]\ttrain-mae:1.93963\tval-mae:2.35711\n",
      "[200]\ttrain-mae:1.85253\tval-mae:2.35674\n",
      "[300]\ttrain-mae:1.78092\tval-mae:2.36415\n",
      "[400]\ttrain-mae:1.71369\tval-mae:2.37893\n",
      "[500]\ttrain-mae:1.65395\tval-mae:2.39112\n",
      "[600]\ttrain-mae:1.59884\tval-mae:2.40476\n",
      "[700]\ttrain-mae:1.54759\tval-mae:2.41424\n",
      "[800]\ttrain-mae:1.49897\tval-mae:2.42438\n",
      "[900]\ttrain-mae:1.45326\tval-mae:2.43273\n",
      "[999]\ttrain-mae:1.4108\tval-mae:2.44573\n"
     ]
    }
   ],
   "source": [
    "GBM = xgb.train(param, dtrain, num_round, watchlist, obj=MAE_obj,verbose_eval=100)"
   ]
  },
  {
   "cell_type": "code",
   "execution_count": null,
   "metadata": {},
   "outputs": [],
   "source": []
  },
  {
   "cell_type": "code",
   "execution_count": null,
   "metadata": {},
   "outputs": [],
   "source": []
  },
  {
   "cell_type": "markdown",
   "metadata": {},
   "source": [
    "Raw GBM performance"
   ]
  },
  {
   "cell_type": "code",
   "execution_count": 8,
   "metadata": {},
   "outputs": [
    {
     "name": "stdout",
     "output_type": "stream",
     "text": [
      "[0]\ttrain-mae:2.99679\tval-mae:3.2041\n",
      "[100]\ttrain-mae:2.54604\tval-mae:2.86332\n",
      "[200]\ttrain-mae:2.20655\tval-mae:2.62128\n",
      "[300]\ttrain-mae:1.9639\tval-mae:2.45168\n",
      "[400]\ttrain-mae:1.79788\tval-mae:2.35825\n",
      "[500]\ttrain-mae:1.68132\tval-mae:2.32287\n",
      "[600]\ttrain-mae:1.58882\tval-mae:2.30614\n",
      "[700]\ttrain-mae:1.5084\tval-mae:2.30226\n",
      "[800]\ttrain-mae:1.43748\tval-mae:2.30396\n",
      "[900]\ttrain-mae:1.37589\tval-mae:2.30909\n",
      "[999]\ttrain-mae:1.31725\tval-mae:2.31955\n"
     ]
    }
   ],
   "source": [
    "GBM = xgb.train(param, dtrain, num_round, watchlist, obj=MAE_obj,verbose_eval=100)"
   ]
  },
  {
   "cell_type": "code",
   "execution_count": null,
   "metadata": {},
   "outputs": [],
   "source": []
  },
  {
   "cell_type": "code",
   "execution_count": 10,
   "metadata": {},
   "outputs": [],
   "source": [
    "GBM.save_model('../Model/'+name+'.model')"
   ]
  },
  {
   "cell_type": "code",
   "execution_count": 13,
   "metadata": {},
   "outputs": [],
   "source": [
    "submission.iloc[:,1] = GBM.predict(dtest,ntree_limit=GBM.best_ntree_limit)\n",
    "submission.to_csv('../Submission/'+name+'.csv',index=False)"
   ]
  },
  {
   "cell_type": "code",
   "execution_count": null,
   "metadata": {},
   "outputs": [],
   "source": []
  },
  {
   "cell_type": "code",
   "execution_count": null,
   "metadata": {},
   "outputs": [],
   "source": []
  }
 ],
 "metadata": {
  "kernelspec": {
   "display_name": "Python 3",
   "language": "python",
   "name": "python3"
  },
  "language_info": {
   "codemirror_mode": {
    "name": "ipython",
    "version": 3
   },
   "file_extension": ".py",
   "mimetype": "text/x-python",
   "name": "python",
   "nbconvert_exporter": "python",
   "pygments_lexer": "ipython3",
   "version": "3.7.2"
  }
 },
 "nbformat": 4,
 "nbformat_minor": 2
}
