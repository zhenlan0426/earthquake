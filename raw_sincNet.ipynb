{
 "cells": [
  {
   "cell_type": "code",
   "execution_count": 1,
   "metadata": {},
   "outputs": [],
   "source": [
    "import pandas as pd\n",
    "import numpy as np\n",
    "from functions import *\n",
    "from pytorch_util import *\n",
    "from pytorch_models import ConvBatchLeaky1D,GRU_NCL,LambdaLayer,biasLayer,SincBatchLeaky\n",
    "from torch.nn import Linear,Sequential,LeakyReLU,Dropout,L1Loss,LayerNorm,BatchNorm1d\n",
    "from torch.utils.data import DataLoader\n",
    "from torch.optim import Adam"
   ]
  },
  {
   "cell_type": "code",
   "execution_count": 55,
   "metadata": {},
   "outputs": [],
   "source": [
    "## change ##\n",
    "batch_size = 16\n",
    "clip = .1\n",
    "block = ResidualBlock\n",
    "normalFun = normalize2\n",
    "name = 'raw_sincNet'"
   ]
  },
  {
   "cell_type": "code",
   "execution_count": 3,
   "metadata": {},
   "outputs": [],
   "source": [
    "train = pd.read_csv(\"../Data/train.csv\", \n",
    "                    dtype={'acoustic_data': np.float32, 'time_to_failure': np.float32})\n",
    "train = train.values\n",
    "train[:,0] = normalFun(train[:,0])\n",
    "# without tanh is worse-off"
   ]
  },
  {
   "cell_type": "code",
   "execution_count": null,
   "metadata": {},
   "outputs": [],
   "source": []
  },
  {
   "cell_type": "code",
   "execution_count": null,
   "metadata": {},
   "outputs": [],
   "source": []
  },
  {
   "cell_type": "markdown",
   "metadata": {},
   "source": [
    "Prepare data"
   ]
  },
  {
   "cell_type": "code",
   "execution_count": 7,
   "metadata": {},
   "outputs": [],
   "source": [
    "# train_gen = SequenceGen(train)\n",
    "# train_gen = DataLoader(train_gen,batch_size,False,num_workers=2)\n",
    "\n",
    "# val_gen = SequenceGen(train,False)\n",
    "# val_gen = DataLoader(val_gen,batch_size,False,num_workers=2)"
   ]
  },
  {
   "cell_type": "code",
   "execution_count": 4,
   "metadata": {},
   "outputs": [],
   "source": [
    "train_gen = SequenceGenSample(train)\n",
    "train_gen = DataLoader(train_gen,batch_size,False,num_workers=2)\n",
    "\n",
    "val_gen = SequenceGenSample(train,False)\n",
    "val_gen = DataLoader(val_gen,batch_size,False,num_workers=2)"
   ]
  },
  {
   "cell_type": "code",
   "execution_count": null,
   "metadata": {},
   "outputs": [],
   "source": []
  },
  {
   "cell_type": "code",
   "execution_count": null,
   "metadata": {},
   "outputs": [],
   "source": []
  },
  {
   "cell_type": "markdown",
   "metadata": {},
   "source": [
    "Build model"
   ]
  },
  {
   "cell_type": "code",
   "execution_count": 67,
   "metadata": {},
   "outputs": [],
   "source": [
    "model = Sequential(   LayerNorm(37500),\n",
    "                      SincBatchLeaky(1,64,128,sample_rate=1000000,stride=8),\n",
    "                      block(64),\n",
    "                      block(128),                 \n",
    "                      LambdaLayer(lambda x:x.transpose(1,2)),\n",
    "                      Dropout(0.5),\n",
    "                      Linear(256,1,bias=False),\n",
    "                      LeakyReLU(0.1,True),                  \n",
    "                      LambdaLayer(lambda x:x.squeeze(2).mean(1,keepdim=True)),                 \n",
    "                      biasLayer((1,)),\n",
    "                      LambdaLayer(lambda x:x.squeeze(1))\n",
    "                      ).to('cuda:0')"
   ]
  },
  {
   "cell_type": "code",
   "execution_count": null,
   "metadata": {},
   "outputs": [],
   "source": [
    "# model = Sequential(   LayerNorm(37500),\n",
    "#                       SincConv_fast(64,128,sample_rate=100000,stride=64),\n",
    "#                       LayerNorm(584),\n",
    "#                       nn.LeakyReLU(0.1,inplace=True),\n",
    "#                       nn.Conv1d(64,64,5),\n",
    "#                       LayerNorm(580),\n",
    "#                       nn.LeakyReLU(0.1,inplace=True),\n",
    "#                       nn.Conv1d(64,128,5,stride=2),\n",
    "#                       LayerNorm(288),\n",
    "#                       nn.LeakyReLU(0.1,inplace=True),\n",
    "#                       nn.Conv1d(128,256,5,stride=2),   \n",
    "#                       LayerNorm(142),\n",
    "#                       nn.LeakyReLU(0.1,inplace=True),                   \n",
    "#                       LambdaLayer(lambda x:x.transpose(1,2)),\n",
    "#                       Dropout(0.5),\n",
    "#                       Linear(256,1,bias=False),\n",
    "#                       LeakyReLU(0.2,True),\n",
    "#                       LambdaLayer(lambda x:x.squeeze(2).mean(1,keepdim=True)),                 \n",
    "#                       biasLayer((1,)),\n",
    "#                       LambdaLayer(lambda x:x.squeeze(1))\n",
    "#                       ).to('cuda:0')"
   ]
  },
  {
   "cell_type": "code",
   "execution_count": 59,
   "metadata": {},
   "outputs": [],
   "source": [
    "# model = Sequential(SincConv_fast2(64,128,sample_rate=100000,stride=64),\n",
    "#                       block(64),\n",
    "#                       Dropout(0.5),\n",
    "#                       block(128),\n",
    "#                       Dropout(0.5),                 \n",
    "#                       LambdaLayer(lambda x:x.transpose(1,2)),\n",
    "#                       Linear(256,1,bias=False),\n",
    "#                       LeakyReLU(0.2,True),\n",
    "#                       LambdaLayer(lambda x:x.squeeze(2).mean(1,keepdim=True)),\n",
    "#                       #LambdaLayer(lambda x:x.squeeze(2).median(1,keepdim=True)[0]),                   \n",
    "#                       biasLayer((1,)),\n",
    "#                       #Linear(1,1),\n",
    "#                       LambdaLayer(lambda x:x.squeeze(1))\n",
    "#                       ).to('cuda:0')"
   ]
  },
  {
   "cell_type": "code",
   "execution_count": 68,
   "metadata": {},
   "outputs": [],
   "source": [
    "opt = Adam(trainable_parameter(model),lr=4e-4)"
   ]
  },
  {
   "cell_type": "code",
   "execution_count": 69,
   "metadata": {},
   "outputs": [],
   "source": [
    "loss_func_nor = loss_func_generator(L1Loss())"
   ]
  },
  {
   "cell_type": "code",
   "execution_count": null,
   "metadata": {},
   "outputs": [],
   "source": []
  },
  {
   "cell_type": "code",
   "execution_count": null,
   "metadata": {},
   "outputs": [],
   "source": []
  },
  {
   "cell_type": "markdown",
   "metadata": {},
   "source": [
    "Training"
   ]
  },
  {
   "cell_type": "code",
   "execution_count": 59,
   "metadata": {
    "scrolled": true
   },
   "outputs": [
    {
     "name": "stdout",
     "output_type": "stream",
     "text": [
      "epoch:0, train_loss:3.5968757185798426, val_loss:2.648303747177124\n",
      "epoch:1, train_loss:2.2223448999799214, val_loss:2.8477299213409424\n",
      "epoch:2, train_loss:2.1272364654220066, val_loss:2.5932843685150146\n",
      "epoch:3, train_loss:2.0244244910203495, val_loss:2.472490072250366\n",
      "epoch:4, train_loss:1.9287010563107638, val_loss:2.3878142833709717\n",
      "Training completed in 32.20494079589844s\n"
     ]
    }
   ],
   "source": [
    "model = fit(5, model, loss_func_nor, opt, train_gen, val_gen,clip=clip)"
   ]
  },
  {
   "cell_type": "code",
   "execution_count": null,
   "metadata": {},
   "outputs": [],
   "source": []
  },
  {
   "cell_type": "code",
   "execution_count": null,
   "metadata": {},
   "outputs": [],
   "source": []
  },
  {
   "cell_type": "code",
   "execution_count": null,
   "metadata": {},
   "outputs": [],
   "source": []
  },
  {
   "cell_type": "markdown",
   "metadata": {},
   "source": [
    "Save Model/Validation"
   ]
  },
  {
   "cell_type": "code",
   "execution_count": 61,
   "metadata": {},
   "outputs": [],
   "source": [
    "save_ModelandValidation_sample(model,val_gen,name)"
   ]
  },
  {
   "cell_type": "code",
   "execution_count": null,
   "metadata": {},
   "outputs": [],
   "source": []
  },
  {
   "cell_type": "markdown",
   "metadata": {},
   "source": [
    "Submission"
   ]
  },
  {
   "cell_type": "code",
   "execution_count": 62,
   "metadata": {},
   "outputs": [],
   "source": [
    "make_submission_sample(name,model,normalFun,batch_size)"
   ]
  },
  {
   "cell_type": "code",
   "execution_count": null,
   "metadata": {},
   "outputs": [],
   "source": []
  }
 ],
 "metadata": {
  "kernelspec": {
   "display_name": "Python 3",
   "language": "python",
   "name": "python3"
  },
  "language_info": {
   "codemirror_mode": {
    "name": "ipython",
    "version": 3
   },
   "file_extension": ".py",
   "mimetype": "text/x-python",
   "name": "python",
   "nbconvert_exporter": "python",
   "pygments_lexer": "ipython3",
   "version": "3.7.2"
  }
 },
 "nbformat": 4,
 "nbformat_minor": 2
}
