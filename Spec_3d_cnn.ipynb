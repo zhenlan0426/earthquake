{
 "cells": [
  {
   "cell_type": "code",
   "execution_count": 29,
   "metadata": {},
   "outputs": [],
   "source": [
    "import pandas as pd\n",
    "import numpy as np\n",
    "from functions import *\n",
    "from pytorch_util import *\n",
    "from pytorch_models import ConvBatchLeaky,GRU_NCL,LambdaLayer\n",
    "from torch.nn import Linear,Sequential,LeakyReLU,Dropout,L1Loss,MaxPool2d,MaxPool1d\n",
    "from torch.utils.data import DataLoader\n",
    "from torch.optim import Adam"
   ]
  },
  {
   "cell_type": "code",
   "execution_count": 2,
   "metadata": {},
   "outputs": [],
   "source": [
    "train = pd.read_csv(\"../Data/train.csv\", \n",
    "                    dtype={'acoustic_data': np.float32, 'time_to_failure': np.float32})\n",
    "train = train.values"
   ]
  },
  {
   "cell_type": "code",
   "execution_count": 3,
   "metadata": {},
   "outputs": [],
   "source": [
    "## change ##\n",
    "batch_size = 16\n",
    "clip = .5"
   ]
  },
  {
   "cell_type": "code",
   "execution_count": null,
   "metadata": {},
   "outputs": [],
   "source": []
  },
  {
   "cell_type": "code",
   "execution_count": null,
   "metadata": {},
   "outputs": [],
   "source": []
  },
  {
   "cell_type": "markdown",
   "metadata": {},
   "source": [
    "Prepare data"
   ]
  },
  {
   "cell_type": "code",
   "execution_count": 4,
   "metadata": {},
   "outputs": [],
   "source": [
    "train_gen = SequenceGenSpec(train,Is2D=False)\n",
    "train_gen = DataLoader(train_gen,batch_size,False,num_workers=2)\n",
    "\n",
    "val_gen = SequenceGenSpec(train,False,Is2D=False)\n",
    "val_gen = DataLoader(val_gen,batch_size,False,num_workers=2)"
   ]
  },
  {
   "cell_type": "code",
   "execution_count": null,
   "metadata": {},
   "outputs": [],
   "source": []
  },
  {
   "cell_type": "code",
   "execution_count": null,
   "metadata": {},
   "outputs": [],
   "source": []
  },
  {
   "cell_type": "markdown",
   "metadata": {},
   "source": [
    "Build model"
   ]
  },
  {
   "cell_type": "code",
   "execution_count": 73,
   "metadata": {},
   "outputs": [],
   "source": [
    "model = Sequential(Dropout(0.25),\n",
    "                      ConvBatchLeaky(1,4,(5,3),stride=(2,1)),\n",
    "                      Dropout(0.25),\n",
    "                      ConvBatchLeaky(4,8,(5,3),stride=(2,1)),\n",
    "                      Dropout(0.25),\n",
    "                      ConvBatchLeaky(8,16,(5,5),stride=(2,2)),\n",
    "                      Dropout(0.25),\n",
    "                      ConvBatchLeaky(16,32,(3,3),stride=(2,2)),\n",
    "                      #MaxPool2d((6,1)),\n",
    "                      Dropout(0.25),\n",
    "                      ConvBatchLeaky(32,32,(6,1),stride=(1,1)),\n",
    "                      Dropout(0.25),\n",
    "                      LambdaLayer(lambda x:x.squeeze(2)),\n",
    "                      DenseBlock(32),\n",
    "                      Dropout(0.5),                  \n",
    "                      DenseBlock(64),\n",
    "                      Dropout(0.5),\n",
    "                      DenseBlock(128),\n",
    "                      Dropout(0.5),                 \n",
    "                      DenseBlock(256),\n",
    "                      Dropout(0.5),             \n",
    "                      DenseBlock(512),\n",
    "                      MaxPool1d(5),\n",
    "                      Dropout(0.5),                      \n",
    "                      LambdaLayer(lambda x:x.squeeze(2)),\n",
    "                      Linear(1024,128),LeakyReLU(0.1,True),\n",
    "                      Dropout(0.25),Linear(128,1),LeakyReLU(0.1,True),\n",
    "                      LambdaLayer(lambda x:x.squeeze(1))\n",
    "                     ).to('cuda:0')"
   ]
  },
  {
   "cell_type": "code",
   "execution_count": 74,
   "metadata": {},
   "outputs": [],
   "source": [
    "opt = Adam(trainable_parameter(model),lr=1e-4)"
   ]
  },
  {
   "cell_type": "code",
   "execution_count": 75,
   "metadata": {},
   "outputs": [],
   "source": [
    "loss_func_nor = loss_func_generator(L1Loss())"
   ]
  },
  {
   "cell_type": "code",
   "execution_count": null,
   "metadata": {},
   "outputs": [],
   "source": []
  },
  {
   "cell_type": "markdown",
   "metadata": {},
   "source": [
    "Training"
   ]
  },
  {
   "cell_type": "code",
   "execution_count": 76,
   "metadata": {
    "scrolled": true
   },
   "outputs": [
    {
     "name": "stdout",
     "output_type": "stream",
     "text": [
      "epoch:0, train_loss:3.2217936985767803, val_loss:5.280186653137207\n",
      "epoch:1, train_loss:3.1231767048056307, val_loss:5.048975467681885\n",
      "epoch:2, train_loss:3.118224114179611, val_loss:4.890585422515869\n",
      "epoch:3, train_loss:3.0939547442472897, val_loss:4.5919976234436035\n",
      "epoch:4, train_loss:3.0478792752210913, val_loss:4.2235941886901855\n",
      "Training completed in 29.753233432769775s\n"
     ]
    }
   ],
   "source": [
    "model = fit(5, model, loss_func_nor, opt, train_gen, val_gen)"
   ]
  },
  {
   "cell_type": "code",
   "execution_count": 77,
   "metadata": {},
   "outputs": [
    {
     "name": "stdout",
     "output_type": "stream",
     "text": [
      "epoch:0, train_loss:2.8925352457624216, val_loss:3.603809356689453\n",
      "epoch:1, train_loss:2.3964541737849894, val_loss:3.5175061225891113\n",
      "epoch:2, train_loss:2.327695711874045, val_loss:3.597337245941162\n",
      "epoch:3, train_loss:2.286822204406445, val_loss:3.6284518241882324\n",
      "epoch:4, train_loss:2.288866975559638, val_loss:3.633211851119995\n",
      "Training completed in 29.998956441879272s\n"
     ]
    }
   ],
   "source": [
    "model = fit(5, model, loss_func_nor, opt, train_gen, val_gen)"
   ]
  },
  {
   "cell_type": "code",
   "execution_count": null,
   "metadata": {},
   "outputs": [],
   "source": []
  },
  {
   "cell_type": "code",
   "execution_count": null,
   "metadata": {},
   "outputs": [],
   "source": []
  },
  {
   "cell_type": "markdown",
   "metadata": {},
   "source": [
    "Submission: cnn does not work well"
   ]
  },
  {
   "cell_type": "code",
   "execution_count": null,
   "metadata": {},
   "outputs": [],
   "source": []
  }
 ],
 "metadata": {
  "kernelspec": {
   "display_name": "Python 3",
   "language": "python",
   "name": "python3"
  },
  "language_info": {
   "codemirror_mode": {
    "name": "ipython",
    "version": 3
   },
   "file_extension": ".py",
   "mimetype": "text/x-python",
   "name": "python",
   "nbconvert_exporter": "python",
   "pygments_lexer": "ipython3",
   "version": "3.7.2"
  }
 },
 "nbformat": 4,
 "nbformat_minor": 2
}
