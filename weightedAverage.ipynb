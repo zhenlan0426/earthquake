{
 "cells": [
  {
   "cell_type": "code",
   "execution_count": 33,
   "metadata": {},
   "outputs": [],
   "source": [
    "import pandas as pd\n",
    "import numpy as np\n",
    "from functions import *\n",
    "from pytorch_util import *\n",
    "from pytorch_models import weightedAverage\n",
    "from torch.utils.data import DataLoader\n",
    "from torch.nn import L1Loss\n",
    "from torch.optim import Adam"
   ]
  },
  {
   "cell_type": "code",
   "execution_count": 28,
   "metadata": {},
   "outputs": [],
   "source": [
    "model_list = !ls ../Model"
   ]
  },
  {
   "cell_type": "code",
   "execution_count": 29,
   "metadata": {},
   "outputs": [],
   "source": [
    "model_list = ['../Model/'+model for model in model_list if 'npy' in model and 'y_val' not in model]"
   ]
  },
  {
   "cell_type": "code",
   "execution_count": 13,
   "metadata": {},
   "outputs": [],
   "source": [
    "# train = pd.read_csv(\"../Data/train.csv\", \n",
    "#                     dtype={'acoustic_data': np.float32, 'time_to_failure': np.float32})\n",
    "# train = train.values\n",
    "# batch_size = 16\n",
    "# normalFun = normalize_log2\n",
    "# val_gen = SequenceGenSpec(train,False,normalFun=normalFun)\n",
    "# val_gen = DataLoader(val_gen,batch_size,False,num_workers=2)\n",
    "# y_ = np.concatenate([y for x,y in val_gen],0)\n",
    "# np.save('../Model/y_val.npy',y_)"
   ]
  },
  {
   "cell_type": "code",
   "execution_count": null,
   "metadata": {},
   "outputs": [],
   "source": []
  },
  {
   "cell_type": "code",
   "execution_count": 108,
   "metadata": {},
   "outputs": [],
   "source": [
    "train_gen = weightedAverageGen(model_list,'../Model/y_val.npy')\n",
    "train_gen = DataLoader(train_gen,16,True,num_workers=2)"
   ]
  },
  {
   "cell_type": "code",
   "execution_count": 109,
   "metadata": {},
   "outputs": [],
   "source": [
    "model = weightedAverage(5).to('cuda:0')"
   ]
  },
  {
   "cell_type": "code",
   "execution_count": 110,
   "metadata": {},
   "outputs": [],
   "source": [
    "loss_func_nor = loss_func_generator(L1Loss())\n",
    "opt = Adam(trainable_parameter(model),lr=1e-4)"
   ]
  },
  {
   "cell_type": "code",
   "execution_count": 111,
   "metadata": {
    "scrolled": true
   },
   "outputs": [
    {
     "name": "stdout",
     "output_type": "stream",
     "text": [
      "epoch:0, train_loss:2.3643425860494935\n",
      "epoch:1, train_loss:2.3619087799540104\n",
      "epoch:2, train_loss:2.362142261469139\n",
      "epoch:3, train_loss:2.3604611653201983\n",
      "epoch:4, train_loss:2.3608362067420527\n",
      "epoch:5, train_loss:2.3573954757654443\n",
      "epoch:6, train_loss:2.3625434232207962\n",
      "epoch:7, train_loss:2.361008513648555\n",
      "epoch:8, train_loss:2.3603976897473604\n",
      "epoch:9, train_loss:2.35554468181898\n",
      "epoch:10, train_loss:2.362026327061203\n",
      "epoch:11, train_loss:2.357865848631229\n",
      "epoch:12, train_loss:2.3678984844459676\n",
      "epoch:13, train_loss:2.3619265106489076\n",
      "epoch:14, train_loss:2.3558560632309824\n",
      "epoch:15, train_loss:2.355962098769422\n",
      "epoch:16, train_loss:2.3597485951657564\n",
      "epoch:17, train_loss:2.359714130185685\n",
      "epoch:18, train_loss:2.3612887252051875\n",
      "epoch:19, train_loss:2.359724415923065\n",
      "Training completed in 4.295798301696777s\n"
     ]
    }
   ],
   "source": [
    "model = fit(20, model, loss_func_nor, opt, train_gen)"
   ]
  },
  {
   "cell_type": "code",
   "execution_count": null,
   "metadata": {},
   "outputs": [],
   "source": []
  },
  {
   "cell_type": "code",
   "execution_count": 91,
   "metadata": {},
   "outputs": [],
   "source": [
    "yhat = np.stack([np.load(model) for model in model_list],1)"
   ]
  },
  {
   "cell_type": "code",
   "execution_count": null,
   "metadata": {},
   "outputs": [],
   "source": [
    "y_ = np.load('../Model/y_val.npy')"
   ]
  },
  {
   "cell_type": "code",
   "execution_count": null,
   "metadata": {},
   "outputs": [],
   "source": []
  },
  {
   "cell_type": "markdown",
   "metadata": {},
   "source": [
    "Median is best"
   ]
  },
  {
   "cell_type": "code",
   "execution_count": 95,
   "metadata": {},
   "outputs": [
    {
     "data": {
      "text/plain": [
       "2.3194153"
      ]
     },
     "execution_count": 95,
     "metadata": {},
     "output_type": "execute_result"
    }
   ],
   "source": [
    "np.mean(np.abs(y_-yhat.mean(1)))"
   ]
  },
  {
   "cell_type": "code",
   "execution_count": 97,
   "metadata": {},
   "outputs": [
    {
     "data": {
      "text/plain": [
       "2.3108249"
      ]
     },
     "execution_count": 97,
     "metadata": {},
     "output_type": "execute_result"
    }
   ],
   "source": [
    "np.mean(np.abs(y_-np.median(yhat,1)))"
   ]
  },
  {
   "cell_type": "code",
   "execution_count": 112,
   "metadata": {},
   "outputs": [
    {
     "data": {
      "text/plain": [
       "2.3172023"
      ]
     },
     "execution_count": 112,
     "metadata": {},
     "output_type": "execute_result"
    }
   ],
   "source": [
    "np.mean(np.abs(y_-yhat@(model.get_weight().cpu().detach().numpy())))"
   ]
  },
  {
   "cell_type": "code",
   "execution_count": null,
   "metadata": {},
   "outputs": [],
   "source": []
  },
  {
   "cell_type": "code",
   "execution_count": null,
   "metadata": {},
   "outputs": [],
   "source": []
  },
  {
   "cell_type": "code",
   "execution_count": null,
   "metadata": {},
   "outputs": [],
   "source": []
  },
  {
   "cell_type": "code",
   "execution_count": null,
   "metadata": {},
   "outputs": [],
   "source": []
  },
  {
   "cell_type": "code",
   "execution_count": null,
   "metadata": {},
   "outputs": [],
   "source": []
  }
 ],
 "metadata": {
  "kernelspec": {
   "display_name": "Python 3",
   "language": "python",
   "name": "python3"
  },
  "language_info": {
   "codemirror_mode": {
    "name": "ipython",
    "version": 3
   },
   "file_extension": ".py",
   "mimetype": "text/x-python",
   "name": "python",
   "nbconvert_exporter": "python",
   "pygments_lexer": "ipython3",
   "version": "3.7.2"
  }
 },
 "nbformat": 4,
 "nbformat_minor": 2
}
