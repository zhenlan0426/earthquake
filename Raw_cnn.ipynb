{
 "cells": [
  {
   "cell_type": "code",
   "execution_count": 60,
   "metadata": {},
   "outputs": [],
   "source": [
    "import pandas as pd\n",
    "import numpy as np\n",
    "from functions import *\n",
    "from pytorch_util import *\n",
    "from pytorch_models import ConvBatchLeaky1D,GRU_NCL,LambdaLayer,ConvBatchRRelu1D\n",
    "from torch.nn import Linear,Sequential,LeakyReLU,Dropout,L1Loss\n",
    "from torch.utils.data import DataLoader\n",
    "from torch.optim import Adam"
   ]
  },
  {
   "cell_type": "code",
   "execution_count": 2,
   "metadata": {},
   "outputs": [],
   "source": [
    "train = pd.read_csv(\"../Data/train.csv\", \n",
    "                    dtype={'acoustic_data': np.float32, 'time_to_failure': np.float32})\n",
    "train = train.values\n",
    "train[:,0] = normalize(train[:,0])\n",
    "# without tanh is worse-off"
   ]
  },
  {
   "cell_type": "code",
   "execution_count": 45,
   "metadata": {},
   "outputs": [],
   "source": [
    "## change ##\n",
    "batch_size = 16\n",
    "clip = .25"
   ]
  },
  {
   "cell_type": "code",
   "execution_count": 10,
   "metadata": {},
   "outputs": [],
   "source": []
  },
  {
   "cell_type": "markdown",
   "metadata": {},
   "source": [
    "Prepare data"
   ]
  },
  {
   "cell_type": "code",
   "execution_count": 4,
   "metadata": {},
   "outputs": [],
   "source": [
    "train_gen = SequenceGen(train)\n",
    "train_gen = DataLoader(train_gen,batch_size,False,num_workers=2)\n",
    "\n",
    "val_gen = SequenceGen(train,False)\n",
    "val_gen = DataLoader(val_gen,batch_size,False,num_workers=2)"
   ]
  },
  {
   "cell_type": "code",
   "execution_count": null,
   "metadata": {},
   "outputs": [],
   "source": []
  },
  {
   "cell_type": "markdown",
   "metadata": {},
   "source": [
    "Build model"
   ]
  },
  {
   "cell_type": "code",
   "execution_count": null,
   "metadata": {},
   "outputs": [],
   "source": []
  },
  {
   "cell_type": "code",
   "execution_count": null,
   "metadata": {},
   "outputs": [],
   "source": [
    "model = Sequential(ConvBatchLeaky1D(1,4,12,stride=10),\n",
    "                      DenseBlock2(4),\n",
    "                      DenseBlock2(8),                    \n",
    "                      DenseBlock2(16),\n",
    "                      DenseBlock2(32),\n",
    "                      Dropout(0.5),\n",
    "                      DenseBlock2(64),\n",
    "                      Dropout(0.5),\n",
    "                      DenseBlock2(128),\n",
    "                      Dropout(0.5),\n",
    "                      DenseBlock2(256),\n",
    "                      Dropout(0.5),\n",
    "                      DenseBlock2(512),\n",
    "                      Dropout(0.5),\n",
    "                      DenseBlock2(1024),\n",
    "                      Dropout(0.5),\n",
    "                      ConvBatchLeaky1D(2048,1024,28),\n",
    "                      Dropout(0.5),\n",
    "                      LambdaLayer(lambda x:x.squeeze(2)),\n",
    "                      Linear(1024,1),\n",
    "                      LambdaLayer(lambda x:x.squeeze(1))\n",
    "                      ).to('cuda:0')"
   ]
  },
  {
   "cell_type": "code",
   "execution_count": 66,
   "metadata": {},
   "outputs": [],
   "source": [
    "# All rrelu\n",
    "class DenseBlock2(nn.Module):\n",
    "    # N,D,L to N,2*D,L\n",
    "    def __init__(self, in_channel):\n",
    "        super().__init__()\n",
    "        self.in_channel = in_channel\n",
    "        self.conv1 = ConvBatchRRelu1D(in_channel,in_channel,3,padding=1)\n",
    "        self.conv2 = ConvBatchRRelu1D(in_channel*2,in_channel*2,3,stride=2)\n",
    "        \n",
    "    def forward(self, x):\n",
    "        return self.conv2(torch.cat([x,self.conv1(x)],1))\n",
    "    \n",
    "model = Sequential(ConvBatchRRelu1D(1,4,12,stride=10),\n",
    "                      DenseBlock2(4),\n",
    "                      DenseBlock2(8),                    \n",
    "                      DenseBlock2(16),\n",
    "                      DenseBlock2(32),\n",
    "                      DenseBlock2(64),\n",
    "                      DenseBlock2(128),\n",
    "                      DenseBlock2(256),\n",
    "                      DenseBlock2(512),\n",
    "                      DenseBlock2(1024),                   \n",
    "                      ConvBatchRRelu1D(2048,1024,28),\n",
    "                      LambdaLayer(lambda x:x.squeeze(2)),\n",
    "                      Linear(1024,1),\n",
    "                      LambdaLayer(lambda x:x.squeeze(1))\n",
    "                      ).to('cuda:0')"
   ]
  },
  {
   "cell_type": "code",
   "execution_count": 70,
   "metadata": {},
   "outputs": [],
   "source": [
    "model = Sequential(ConvBatchLeaky1D(1,4,12,stride=10),\n",
    "                      ResidualBlockGLU(4),\n",
    "                      ResidualBlockGLU(8),                    \n",
    "                      ResidualBlockGLU(16),\n",
    "                      ResidualBlockGLU(32),\n",
    "                      Dropout(0.5),\n",
    "                      ResidualBlockGLU(64),\n",
    "                      Dropout(0.5),\n",
    "                      ResidualBlockGLU(128),\n",
    "                      Dropout(0.5),\n",
    "                      ResidualBlockGLU(256),\n",
    "                      Dropout(0.5),\n",
    "                      ResidualBlockGLU(512),\n",
    "                      Dropout(0.5),\n",
    "                      ResidualBlockGLU(1024),\n",
    "                      Dropout(0.5),\n",
    "                      ConvBatchLeaky1D(2048,1024,28),\n",
    "                      Dropout(0.5),\n",
    "                      LambdaLayer(lambda x:x.squeeze(2)),\n",
    "                      Linear(1024,1),\n",
    "                      LambdaLayer(lambda x:x.squeeze(1))\n",
    "                      ).to('cuda:0')"
   ]
  },
  {
   "cell_type": "code",
   "execution_count": null,
   "metadata": {},
   "outputs": [],
   "source": []
  },
  {
   "cell_type": "code",
   "execution_count": 71,
   "metadata": {},
   "outputs": [],
   "source": [
    "opt = Adam(trainable_parameter(model),lr=1e-3)"
   ]
  },
  {
   "cell_type": "code",
   "execution_count": 72,
   "metadata": {},
   "outputs": [],
   "source": [
    "loss_func_nor = loss_func_generator(L1Loss())"
   ]
  },
  {
   "cell_type": "code",
   "execution_count": null,
   "metadata": {},
   "outputs": [],
   "source": []
  },
  {
   "cell_type": "markdown",
   "metadata": {},
   "source": [
    "Training"
   ]
  },
  {
   "cell_type": "code",
   "execution_count": 73,
   "metadata": {},
   "outputs": [
    {
     "name": "stdout",
     "output_type": "stream",
     "text": [
      "epoch:0, train_loss:2.5291121074786553, val_loss:2.8727221488952637\n",
      "epoch:1, train_loss:2.2022549962768188, val_loss:2.7832329273223877\n",
      "epoch:2, train_loss:2.116436899568026, val_loss:2.929361581802368\n",
      "epoch:3, train_loss:2.0613399067750344, val_loss:2.8159496784210205\n",
      "epoch:4, train_loss:2.0224673811059732, val_loss:2.9016876220703125\n",
      "Training completed in 141.07887482643127s\n"
     ]
    }
   ],
   "source": [
    "model = fit(5, model, loss_func_nor, opt, train_gen, val_gen,clip=clip)"
   ]
  },
  {
   "cell_type": "code",
   "execution_count": null,
   "metadata": {},
   "outputs": [],
   "source": []
  }
 ],
 "metadata": {
  "kernelspec": {
   "display_name": "Python 3",
   "language": "python",
   "name": "python3"
  },
  "language_info": {
   "codemirror_mode": {
    "name": "ipython",
    "version": 3
   },
   "file_extension": ".py",
   "mimetype": "text/x-python",
   "name": "python",
   "nbconvert_exporter": "python",
   "pygments_lexer": "ipython3",
   "version": "3.7.2"
  }
 },
 "nbformat": 4,
 "nbformat_minor": 2
}
