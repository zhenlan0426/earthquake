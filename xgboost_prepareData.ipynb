{
 "cells": [
  {
   "cell_type": "code",
   "execution_count": 1,
   "metadata": {},
   "outputs": [],
   "source": [
    "import numpy as np\n",
    "import pandas as pd\n",
    "from functions_xgboost import create_features"
   ]
  },
  {
   "cell_type": "code",
   "execution_count": 2,
   "metadata": {},
   "outputs": [],
   "source": [
    "train_df = pd.read_csv('../Data/train.csv', dtype={'acoustic_data': np.int16, 'time_to_failure': np.float32})"
   ]
  },
  {
   "cell_type": "code",
   "execution_count": 3,
   "metadata": {},
   "outputs": [],
   "source": [
    "rows = 150000\n",
    "train_num = 500000000\n",
    "segments = int(np.floor(train_df.shape[0] / rows))\n",
    "\n",
    "train_row = int(train_num/rows)\n",
    "val_row = int((train_df.shape[0] - train_num)/rows)-1\n",
    "\n",
    "train_X = pd.DataFrame(index=range(train_row), dtype=np.float64)\n",
    "train_y = pd.DataFrame(index=range(train_row), dtype=np.float64, columns=['time_to_failure'])\n",
    "val_X = pd.DataFrame(index=range(val_row), dtype=np.float64)\n",
    "val_y = pd.DataFrame(index=range(val_row), dtype=np.float64, columns=['time_to_failure'])\n",
    "test_X = pd.DataFrame(index=range(2624), dtype=np.float64)"
   ]
  },
  {
   "cell_type": "code",
   "execution_count": null,
   "metadata": {},
   "outputs": [],
   "source": []
  },
  {
   "cell_type": "code",
   "execution_count": 15,
   "metadata": {},
   "outputs": [],
   "source": [
    "# np.seterr(divide='ignore')\n",
    "# import warnings\n",
    "# warnings.simplefilter(action='ignore', category=FutureWarning)\n",
    "\n",
    "# train\n",
    "for seg_id in range(train_row):\n",
    "    seg = train_df.iloc[seg_id*rows:seg_id*rows+rows]\n",
    "    create_features(seg_id, seg, train_X)\n",
    "    train_y.loc[seg_id, 'time_to_failure'] = seg['time_to_failure'].values[-1]\n",
    "\n",
    "train_X.to_csv('../Data/train_X_xgb.csv')\n",
    "train_y.to_csv('../Data/train_y_xgb.csv')\n",
    "\n",
    "# validation\n",
    "for seg_id in range(val_row):\n",
    "    seg = train_df.iloc[train_num+seg_id*rows:train_num+seg_id*rows+rows]\n",
    "    create_features(seg_id, seg, val_X)\n",
    "    val_y.loc[seg_id, 'time_to_failure'] = seg['time_to_failure'].values[-1]\n",
    "\n",
    "val_X.to_csv('../Data/val_X_xgb.csv')\n",
    "val_y.to_csv('../Data/val_y_xgb.csv')\n",
    "\n",
    "# test\n",
    "submission = pd.read_csv('../Data/sample_submission.csv')\n",
    "for seg_id,file in enumerate(submission.seg_id.tolist()):\n",
    "    seg = pd.read_csv('../Data/test/'+file+'.csv')\n",
    "    create_features(seg_id, seg, test_X)\n",
    "test_X.to_csv('../Data/test_X_xgb.csv')"
   ]
  },
  {
   "cell_type": "code",
   "execution_count": null,
   "metadata": {},
   "outputs": [],
   "source": []
  },
  {
   "cell_type": "code",
   "execution_count": null,
   "metadata": {},
   "outputs": [],
   "source": []
  },
  {
   "cell_type": "code",
   "execution_count": null,
   "metadata": {},
   "outputs": [],
   "source": []
  },
  {
   "cell_type": "code",
   "execution_count": null,
   "metadata": {},
   "outputs": [],
   "source": []
  }
 ],
 "metadata": {
  "kernelspec": {
   "display_name": "Python 3",
   "language": "python",
   "name": "python3"
  },
  "language_info": {
   "codemirror_mode": {
    "name": "ipython",
    "version": 3
   },
   "file_extension": ".py",
   "mimetype": "text/x-python",
   "name": "python",
   "nbconvert_exporter": "python",
   "pygments_lexer": "ipython3",
   "version": "3.7.2"
  }
 },
 "nbformat": 4,
 "nbformat_minor": 2
}
